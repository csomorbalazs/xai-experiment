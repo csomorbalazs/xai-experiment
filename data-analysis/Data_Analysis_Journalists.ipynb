{
 "cells": [
  {
   "attachments": {},
   "cell_type": "markdown",
   "metadata": {},
   "source": [
    "# XAI Experiment Data Analysis - Journalist data\n",
    "\n",
    "This notebook contains attempts at including the journalist data and using Shreirer-Ray-Hare tests to compare groups and interaction effects."
   ]
  },
  {
   "cell_type": "code",
   "execution_count": null,
   "metadata": {},
   "outputs": [],
   "source": [
    "import json\n",
    "import pandas as pd\n",
    "import requests\n",
    "import io\n",
    "from urllib.request import urlopen\n",
    "import json\n",
    "import logging\n",
    "import seaborn as sns\n",
    "import matplotlib.pyplot as plt\n",
    "import numpy as np\n",
    "from pandas.io.json import json_normalize\n",
    "import pingouin as pg\n",
    "import scikit_posthocs as sp"
   ]
  },
  {
   "cell_type": "code",
   "execution_count": null,
   "metadata": {},
   "outputs": [],
   "source": [
    "df = pd.read_csv('data/data_cleaned.csv')\n",
    "\n",
    "# participants who did not get 2 points in the qualification shouldn't be considered\n",
    "# journalists don't have a qualification score, so they should be kept\n",
    "df = df[(df[\"POINTS.qualification\"].isna()) | (df['POINTS.qualification'] == 2)]\n",
    "\n",
    "# journalists don't have a main score, so they should be kept\n",
    "df = df[(df[\"POINTS.main\"].isna()) | (df[\"POINTS.main\"] >= 5)]\n",
    "\n",
    "# filter out journalists who didn't reach enough points in the merged task\n",
    "df = df[df[\"POINTS\"] >= 7]"
   ]
  },
  {
   "cell_type": "code",
   "execution_count": null,
   "metadata": {},
   "outputs": [],
   "source": [
    "df[\"FEATURE:JOURNALIST\"] = df[\"FEATURE\"] + \" \" + np.where(df[\"JOURNALIST\"], \"journalist\", \"lay\")"
   ]
  },
  {
   "cell_type": "code",
   "execution_count": null,
   "metadata": {},
   "outputs": [],
   "source": [
    "df[\"FEATURE:JOURNALIST\"].value_counts()"
   ]
  },
  {
   "attachments": {},
   "cell_type": "markdown",
   "metadata": {},
   "source": [
    "## Define functions"
   ]
  },
  {
   "cell_type": "code",
   "execution_count": null,
   "metadata": {},
   "outputs": [],
   "source": [
    "from scipy import stats\n",
    "\n",
    "# from https://github.com/jpinzonc/Scheirer-Ray-Hare-Test\n",
    "def srh(data: pd.DataFrame, dv: str, between1: str, between2: str):\n",
    "    data = data.copy()\n",
    "    data[\"rank\"] = data[dv].sort_values().rank(numeric_only=True)\n",
    "\n",
    "    rows = data.groupby([between1], as_index = False).agg({'rank':['count', 'mean', 'var']}).rename(columns={'rank':'row'})\n",
    "    rows.columns = ['_'.join(col) for col in rows.columns]\n",
    "    rows.columns = rows.columns.str.replace(r'_$',\"\", regex=True)\n",
    "    rows['row_mean_rows'] = rows.row_mean.mean()\n",
    "    rows['sqdev'] = (rows.row_mean - rows.row_mean_rows)**2\n",
    "\n",
    "    cols = data.groupby([between2], as_index = False).agg({'rank':['count', 'mean', 'var']}).rename(columns={'rank':'col'})\n",
    "    cols.columns = ['_'.join(col) for col in cols.columns]\n",
    "    cols.columns = cols.columns.str.replace(r'_$',\"\", regex=True)\n",
    "    cols['col_mean_cols'] = cols.col_mean.mean()\n",
    "    cols['sqdev'] = (cols.col_mean-cols.col_mean_cols)**2\n",
    "\n",
    "    data_sum         = data.groupby([between1, between2], as_index = False).agg({'rank':['count', 'mean', 'var']})\n",
    "    data_sum.columns = ['_'.join(col) for col in data_sum.columns]\n",
    "    data_sum.columns = data_sum.columns.str.replace(r'_$',\"\", regex=True)\n",
    "\n",
    "    nobs_row   = rows.row_count.mean()\n",
    "    nobs_total = rows.row_count.sum()\n",
    "    nobs_col   = cols.col_count.mean()\n",
    "\n",
    "    columns_ss = cols.sqdev.sum()*nobs_col\n",
    "    rows_ss    = rows.sqdev.sum()*nobs_row\n",
    "    within_ss  = data_sum.rank_var.sum()*(data_sum.rank_count.min()-1)\n",
    "    ms         = data['rank'].var()\n",
    "    total_ss   = ms * (nobs_total-1)\n",
    "    inter_ss   = total_ss - within_ss - rows_ss - columns_ss\n",
    "\n",
    "    h_rows = rows_ss/ms\n",
    "    h_cols = columns_ss/ms\n",
    "    h_int  = inter_ss/ms\n",
    "\n",
    "    df_rows   = len(rows)-1\n",
    "    df_cols   = len(cols)-1\n",
    "    df_int    = df_rows*df_cols\n",
    "    df_total  = len(data)-1\n",
    "    df_within = df_total - df_int - df_cols - df_rows\n",
    "\n",
    "    p_rows  = 1-stats.chi2.cdf(h_rows, df_rows)\n",
    "    p_cols  = 1-stats.chi2.cdf(h_cols, df_cols)\n",
    "    p_inter = 1-stats.chi2.cdf(h_int, df_int)\n",
    "\n",
    "    # put the results in a dataframe\n",
    "    results = pd.DataFrame({'Source':[between1, between2, f'{between1}:{between2}', 'Within', 'Total'],\n",
    "                            'SS':[rows_ss, columns_ss, inter_ss, within_ss, total_ss],\n",
    "                            'df':[df_rows, df_cols, df_int, df_within, df_total],\n",
    "                            'MS':[np.nan, np.nan, np.nan, np.nan, total_ss/df_total],\n",
    "                            'H':[h_rows, h_cols, h_int, np.nan, np.nan],\n",
    "                            'p':[p_rows, p_cols, p_inter, np.nan, np.nan]})\n",
    "    \n",
    "    return results"
   ]
  },
  {
   "cell_type": "code",
   "execution_count": null,
   "metadata": {},
   "outputs": [],
   "source": [
    "def perform_srh_with_posthoc(df, col, print_results=True, highlight_p=True, between1=\"FEATURE\", between2=\"JOURNALIST\"):\n",
    "    srh_test = srh(df, dv=col, between1=between1, between2=between2)\n",
    "\n",
    "    assert between1 == \"FEATURE\" and between2 == \"JOURNALIST\", \"between1 and between2 should be FEATURE and JOURNALIST\"\n",
    "    posthoc1 = sp.posthoc_dunn(df, val_col=col, group_col=between1, p_adjust=\"holm\")\n",
    "    posthoc2 = sp.posthoc_dunn(df, val_col=col, group_col=between2, p_adjust=\"holm\")\n",
    "    posthoc_interaction = sp.posthoc_dunn(df, val_col=col, group_col=f\"{between1}:{between2}\", p_adjust=\"holm\")\n",
    "\n",
    "    if print_results:\n",
    "        print(\"Column name:\", col)\n",
    "        print(srh_test, \"\\n\")\n",
    "        print(posthoc1, \"\\n\")\n",
    "        print(posthoc2, \"\\n\")\n",
    "        print(posthoc_interaction, \"\\n\")\n",
    "        print(df.groupby(between1)[col].describe()[[\"mean\", \"std\"]], \"\\n\")\n",
    "        print(df.groupby(between2)[col].describe()[[\"mean\", \"std\"]], \"\\n\")\n",
    "        print(df.groupby([between1, between2])[col].describe()[[\"mean\", \"std\"]], \"\\n\")\n",
    "\n",
    "    return srh_test, posthoc1, posthoc2, posthoc_interaction"
   ]
  },
  {
   "attachments": {},
   "cell_type": "markdown",
   "metadata": {},
   "source": [
    "### Compare Human-AI performance among groups and layperson vs journalists (including interaction effects)"
   ]
  },
  {
   "cell_type": "code",
   "execution_count": null,
   "metadata": {},
   "outputs": [],
   "source": [
    "srh_test, posthoc1, posthoc2, posthoc_i = perform_srh_with_posthoc(df, \"human_ai_accuracy\", print_results=False)"
   ]
  },
  {
   "cell_type": "code",
   "execution_count": null,
   "metadata": {},
   "outputs": [],
   "source": [
    "srh_test"
   ]
  },
  {
   "cell_type": "code",
   "execution_count": null,
   "metadata": {},
   "outputs": [],
   "source": [
    "posthoc1"
   ]
  },
  {
   "cell_type": "code",
   "execution_count": null,
   "metadata": {},
   "outputs": [],
   "source": [
    "posthoc2"
   ]
  },
  {
   "cell_type": "code",
   "execution_count": null,
   "metadata": {},
   "outputs": [],
   "source": [
    "posthoc_i"
   ]
  },
  {
   "attachments": {},
   "cell_type": "markdown",
   "metadata": {},
   "source": [
    "### Compare change in performance among groups and layperson vs journalists (including interaction effects)"
   ]
  },
  {
   "cell_type": "code",
   "execution_count": null,
   "metadata": {},
   "outputs": [],
   "source": [
    "srh_test, posthoc1, posthoc2, posthoc_i = perform_srh_with_posthoc(df, \"accuracy_change\", print_results=False)"
   ]
  },
  {
   "cell_type": "code",
   "execution_count": null,
   "metadata": {},
   "outputs": [],
   "source": [
    "srh_test"
   ]
  },
  {
   "cell_type": "code",
   "execution_count": null,
   "metadata": {},
   "outputs": [],
   "source": [
    "posthoc1"
   ]
  },
  {
   "cell_type": "code",
   "execution_count": null,
   "metadata": {},
   "outputs": [],
   "source": [
    "posthoc2"
   ]
  },
  {
   "cell_type": "code",
   "execution_count": null,
   "metadata": {},
   "outputs": [],
   "source": [
    "df.groupby(\"JOURNALIST\").describe()[\"accuracy_change\"]"
   ]
  },
  {
   "cell_type": "code",
   "execution_count": null,
   "metadata": {},
   "outputs": [],
   "source": [
    "posthoc_i"
   ]
  },
  {
   "attachments": {},
   "cell_type": "markdown",
   "metadata": {},
   "source": [
    "### Agreement percentage (v1 vs v2 vs v3) and layperson vs journalists (including interaction effects)"
   ]
  },
  {
   "cell_type": "code",
   "execution_count": null,
   "metadata": {},
   "outputs": [],
   "source": [
    "srh_test, posthoc1, posthoc2, posthoc_i = perform_srh_with_posthoc(df, \"agrees-with-ai\", print_results=False)"
   ]
  },
  {
   "cell_type": "code",
   "execution_count": null,
   "metadata": {},
   "outputs": [],
   "source": [
    "srh_test"
   ]
  },
  {
   "cell_type": "code",
   "execution_count": null,
   "metadata": {},
   "outputs": [],
   "source": [
    "posthoc1"
   ]
  },
  {
   "cell_type": "code",
   "execution_count": null,
   "metadata": {},
   "outputs": [],
   "source": [
    "posthoc2"
   ]
  },
  {
   "cell_type": "code",
   "execution_count": null,
   "metadata": {},
   "outputs": [],
   "source": [
    "posthoc_i"
   ]
  },
  {
   "attachments": {},
   "cell_type": "markdown",
   "metadata": {},
   "source": [
    "### Switch percentage (v1 vs v2 vs v3) and layperson vs journalists (including interaction effects)"
   ]
  },
  {
   "cell_type": "code",
   "execution_count": null,
   "metadata": {},
   "outputs": [],
   "source": [
    "srh_test, posthoc1, posthoc2, posthoc_i = perform_srh_with_posthoc(df, \"switched-to-ai\", print_results=False)"
   ]
  },
  {
   "cell_type": "code",
   "execution_count": null,
   "metadata": {},
   "outputs": [],
   "source": [
    "srh_test"
   ]
  },
  {
   "cell_type": "code",
   "execution_count": null,
   "metadata": {},
   "outputs": [],
   "source": [
    "posthoc1"
   ]
  },
  {
   "cell_type": "code",
   "execution_count": null,
   "metadata": {},
   "outputs": [],
   "source": [
    "df.groupby(\"FEATURE\").describe()[\"switched-to-ai\"]"
   ]
  },
  {
   "cell_type": "code",
   "execution_count": null,
   "metadata": {},
   "outputs": [],
   "source": [
    "posthoc2"
   ]
  },
  {
   "cell_type": "code",
   "execution_count": null,
   "metadata": {},
   "outputs": [],
   "source": [
    "df.groupby(\"JOURNALIST\").describe()[\"switched-to-ai\"]"
   ]
  },
  {
   "cell_type": "code",
   "execution_count": null,
   "metadata": {},
   "outputs": [],
   "source": [
    "posthoc_i"
   ]
  },
  {
   "attachments": {},
   "cell_type": "markdown",
   "metadata": {},
   "source": [
    "### AI-preference (v1 vs v2 vs v3) and layperson vs journalists (including interaction effects)"
   ]
  },
  {
   "cell_type": "code",
   "execution_count": null,
   "metadata": {},
   "outputs": [],
   "source": [
    "srh_test, posthoc1, posthoc2, posthoc_i = perform_srh_with_posthoc(df, \"ai-preference\", print_results=False)\n",
    "\n",
    "srh_test"
   ]
  },
  {
   "cell_type": "code",
   "execution_count": null,
   "metadata": {},
   "outputs": [],
   "source": [
    "posthoc1"
   ]
  },
  {
   "cell_type": "code",
   "execution_count": null,
   "metadata": {},
   "outputs": [],
   "source": [
    "posthoc2"
   ]
  },
  {
   "cell_type": "code",
   "execution_count": null,
   "metadata": {},
   "outputs": [],
   "source": [
    "posthoc_i"
   ]
  }
 ],
 "metadata": {
  "kernelspec": {
   "display_name": "base",
   "language": "python",
   "name": "python3"
  },
  "language_info": {
   "codemirror_mode": {
    "name": "ipython",
    "version": 3
   },
   "file_extension": ".py",
   "mimetype": "text/x-python",
   "name": "python",
   "nbconvert_exporter": "python",
   "pygments_lexer": "ipython3",
   "version": "3.10.9"
  },
  "orig_nbformat": 4
 },
 "nbformat": 4,
 "nbformat_minor": 2
}
